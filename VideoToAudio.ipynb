{
 "cells": [
  {
   "cell_type": "code",
   "execution_count": 2,
   "id": "ac47ab2b",
   "metadata": {},
   "outputs": [],
   "source": [
    "import moviepy.editor"
   ]
  },
  {
   "cell_type": "code",
   "execution_count": 4,
   "id": "58c187f7",
   "metadata": {},
   "outputs": [],
   "source": [
    "video=moviepy.editor.VideoFileClip('1.mp4')"
   ]
  },
  {
   "cell_type": "code",
   "execution_count": 5,
   "id": "cce52c9e",
   "metadata": {},
   "outputs": [
    {
     "name": "stderr",
     "output_type": "stream",
     "text": [
      "chunk:   0%|          | 0/3369 [00:00<?, ?it/s, now=None]"
     ]
    },
    {
     "name": "stdout",
     "output_type": "stream",
     "text": [
      "MoviePy - Writing audio in 1.mp3\n"
     ]
    },
    {
     "name": "stderr",
     "output_type": "stream",
     "text": [
      "                                                                      "
     ]
    },
    {
     "name": "stdout",
     "output_type": "stream",
     "text": [
      "MoviePy - Done.\n"
     ]
    },
    {
     "name": "stderr",
     "output_type": "stream",
     "text": [
      "\r"
     ]
    }
   ],
   "source": [
    "audio=video.audio\n",
    "\n",
    "audio.write_audiofile('1.mp3')"
   ]
  },
  {
   "cell_type": "code",
   "execution_count": null,
   "id": "924169ea",
   "metadata": {},
   "outputs": [],
   "source": []
  }
 ],
 "metadata": {
  "kernelspec": {
   "display_name": "Python 3",
   "language": "python",
   "name": "python3"
  }
 },
 "nbformat": 4,
 "nbformat_minor": 5
}
